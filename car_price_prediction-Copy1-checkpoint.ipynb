{
 "cells": [
  {
   "cell_type": "code",
   "execution_count": 43,
   "id": "69325db7",
   "metadata": {},
   "outputs": [],
   "source": [
    "import pandas as pd\n",
    "import numpy as np"
   ]
  },
  {
   "cell_type": "code",
   "execution_count": 44,
   "id": "3143015e",
   "metadata": {},
   "outputs": [],
   "source": [
    "car=pd.read_csv(\"https://raw.githubusercontent.com/rajtilakls2510/car_price_predictor/master/quikr_car.csv\")"
   ]
  },
  {
   "cell_type": "code",
   "execution_count": 45,
   "id": "18329b6a",
   "metadata": {},
   "outputs": [
    {
     "data": {
      "text/html": [
       "<div>\n",
       "<style scoped>\n",
       "    .dataframe tbody tr th:only-of-type {\n",
       "        vertical-align: middle;\n",
       "    }\n",
       "\n",
       "    .dataframe tbody tr th {\n",
       "        vertical-align: top;\n",
       "    }\n",
       "\n",
       "    .dataframe thead th {\n",
       "        text-align: right;\n",
       "    }\n",
       "</style>\n",
       "<table border=\"1\" class=\"dataframe\">\n",
       "  <thead>\n",
       "    <tr style=\"text-align: right;\">\n",
       "      <th></th>\n",
       "      <th>name</th>\n",
       "      <th>company</th>\n",
       "      <th>year</th>\n",
       "      <th>Price</th>\n",
       "      <th>kms_driven</th>\n",
       "      <th>fuel_type</th>\n",
       "    </tr>\n",
       "  </thead>\n",
       "  <tbody>\n",
       "    <tr>\n",
       "      <th>0</th>\n",
       "      <td>Hyundai Santro Xing XO eRLX Euro III</td>\n",
       "      <td>Hyundai</td>\n",
       "      <td>2007</td>\n",
       "      <td>80,000</td>\n",
       "      <td>45,000 kms</td>\n",
       "      <td>Petrol</td>\n",
       "    </tr>\n",
       "    <tr>\n",
       "      <th>1</th>\n",
       "      <td>Mahindra Jeep CL550 MDI</td>\n",
       "      <td>Mahindra</td>\n",
       "      <td>2006</td>\n",
       "      <td>4,25,000</td>\n",
       "      <td>40 kms</td>\n",
       "      <td>Diesel</td>\n",
       "    </tr>\n",
       "    <tr>\n",
       "      <th>2</th>\n",
       "      <td>Maruti Suzuki Alto 800 Vxi</td>\n",
       "      <td>Maruti</td>\n",
       "      <td>2018</td>\n",
       "      <td>Ask For Price</td>\n",
       "      <td>22,000 kms</td>\n",
       "      <td>Petrol</td>\n",
       "    </tr>\n",
       "    <tr>\n",
       "      <th>3</th>\n",
       "      <td>Hyundai Grand i10 Magna 1.2 Kappa VTVT</td>\n",
       "      <td>Hyundai</td>\n",
       "      <td>2014</td>\n",
       "      <td>3,25,000</td>\n",
       "      <td>28,000 kms</td>\n",
       "      <td>Petrol</td>\n",
       "    </tr>\n",
       "    <tr>\n",
       "      <th>4</th>\n",
       "      <td>Ford EcoSport Titanium 1.5L TDCi</td>\n",
       "      <td>Ford</td>\n",
       "      <td>2014</td>\n",
       "      <td>5,75,000</td>\n",
       "      <td>36,000 kms</td>\n",
       "      <td>Diesel</td>\n",
       "    </tr>\n",
       "  </tbody>\n",
       "</table>\n",
       "</div>"
      ],
      "text/plain": [
       "                                     name   company  year          Price  \\\n",
       "0    Hyundai Santro Xing XO eRLX Euro III   Hyundai  2007         80,000   \n",
       "1                 Mahindra Jeep CL550 MDI  Mahindra  2006       4,25,000   \n",
       "2              Maruti Suzuki Alto 800 Vxi    Maruti  2018  Ask For Price   \n",
       "3  Hyundai Grand i10 Magna 1.2 Kappa VTVT   Hyundai  2014       3,25,000   \n",
       "4        Ford EcoSport Titanium 1.5L TDCi      Ford  2014       5,75,000   \n",
       "\n",
       "   kms_driven fuel_type  \n",
       "0  45,000 kms    Petrol  \n",
       "1      40 kms    Diesel  \n",
       "2  22,000 kms    Petrol  \n",
       "3  28,000 kms    Petrol  \n",
       "4  36,000 kms    Diesel  "
      ]
     },
     "execution_count": 45,
     "metadata": {},
     "output_type": "execute_result"
    }
   ],
   "source": [
    "car.head()"
   ]
  },
  {
   "cell_type": "code",
   "execution_count": 46,
   "id": "6563ffbf",
   "metadata": {},
   "outputs": [
    {
     "data": {
      "text/plain": [
       "(892, 6)"
      ]
     },
     "execution_count": 46,
     "metadata": {},
     "output_type": "execute_result"
    }
   ],
   "source": [
    "car.shape"
   ]
  },
  {
   "cell_type": "code",
   "execution_count": 47,
   "id": "9bb3e24a",
   "metadata": {},
   "outputs": [
    {
     "name": "stdout",
     "output_type": "stream",
     "text": [
      "<class 'pandas.core.frame.DataFrame'>\n",
      "RangeIndex: 892 entries, 0 to 891\n",
      "Data columns (total 6 columns):\n",
      " #   Column      Non-Null Count  Dtype \n",
      "---  ------      --------------  ----- \n",
      " 0   name        892 non-null    object\n",
      " 1   company     892 non-null    object\n",
      " 2   year        892 non-null    object\n",
      " 3   Price       892 non-null    object\n",
      " 4   kms_driven  840 non-null    object\n",
      " 5   fuel_type   837 non-null    object\n",
      "dtypes: object(6)\n",
      "memory usage: 41.9+ KB\n"
     ]
    }
   ],
   "source": [
    "car.info()"
   ]
  },
  {
   "cell_type": "markdown",
   "id": "f46db39d",
   "metadata": {},
   "source": [
    "# QUALITY\n",
    "1. Year has many non-year values\n",
    "2. Year object to int\n",
    "3. Price has Ask for price we have to remove \n",
    "4. Price object into int\n",
    "5. Kms_driven has kms with integers\n",
    "6. Kms_driven object to int\n",
    "7. Kms_driven has nan values\n",
    "8. Fuel has nan values\n",
    "9. Keep first three words of name\n",
    "\n"
   ]
  },
  {
   "cell_type": "markdown",
   "id": "a8d07808",
   "metadata": {},
   "source": [
    "# Cleaning\n",
    "\n"
   ]
  },
  {
   "cell_type": "markdown",
   "id": "235c95e0",
   "metadata": {},
   "source": []
  },
  {
   "cell_type": "code",
   "execution_count": 48,
   "id": "71a1a7d5",
   "metadata": {},
   "outputs": [],
   "source": [
    "backup=car.copy()"
   ]
  },
  {
   "cell_type": "code",
   "execution_count": 49,
   "id": "141c763c",
   "metadata": {},
   "outputs": [],
   "source": [
    "car=car[car['year'].str.isnumeric()]   #numeric value--->True       string  ---->False"
   ]
  },
  {
   "cell_type": "code",
   "execution_count": 50,
   "id": "186e957a",
   "metadata": {},
   "outputs": [],
   "source": [
    "car['year']=car['year'].astype(int)"
   ]
  },
  {
   "cell_type": "code",
   "execution_count": 51,
   "id": "e46b2d55",
   "metadata": {},
   "outputs": [
    {
     "name": "stdout",
     "output_type": "stream",
     "text": [
      "<class 'pandas.core.frame.DataFrame'>\n",
      "Int64Index: 842 entries, 0 to 891\n",
      "Data columns (total 6 columns):\n",
      " #   Column      Non-Null Count  Dtype \n",
      "---  ------      --------------  ----- \n",
      " 0   name        842 non-null    object\n",
      " 1   company     842 non-null    object\n",
      " 2   year        842 non-null    int32 \n",
      " 3   Price       842 non-null    object\n",
      " 4   kms_driven  840 non-null    object\n",
      " 5   fuel_type   837 non-null    object\n",
      "dtypes: int32(1), object(5)\n",
      "memory usage: 42.8+ KB\n"
     ]
    }
   ],
   "source": [
    "car.info()"
   ]
  },
  {
   "cell_type": "code",
   "execution_count": 52,
   "id": "9ce24553",
   "metadata": {},
   "outputs": [],
   "source": [
    "car=car[car['Price']!=\"Ask For Price\"]"
   ]
  },
  {
   "cell_type": "code",
   "execution_count": 53,
   "id": "5a5a63a1",
   "metadata": {},
   "outputs": [],
   "source": [
    "car['Price']=car['Price'].str.replace(\",\",\"\")"
   ]
  },
  {
   "cell_type": "code",
   "execution_count": 54,
   "id": "8ff2efea",
   "metadata": {},
   "outputs": [],
   "source": [
    "car['Price']=car['Price'].astype(int)"
   ]
  },
  {
   "cell_type": "code",
   "execution_count": 55,
   "id": "8fe543d7",
   "metadata": {},
   "outputs": [
    {
     "name": "stdout",
     "output_type": "stream",
     "text": [
      "<class 'pandas.core.frame.DataFrame'>\n",
      "Int64Index: 819 entries, 0 to 891\n",
      "Data columns (total 6 columns):\n",
      " #   Column      Non-Null Count  Dtype \n",
      "---  ------      --------------  ----- \n",
      " 0   name        819 non-null    object\n",
      " 1   company     819 non-null    object\n",
      " 2   year        819 non-null    int32 \n",
      " 3   Price       819 non-null    int32 \n",
      " 4   kms_driven  819 non-null    object\n",
      " 5   fuel_type   816 non-null    object\n",
      "dtypes: int32(2), object(4)\n",
      "memory usage: 38.4+ KB\n"
     ]
    }
   ],
   "source": [
    "car.info()"
   ]
  },
  {
   "cell_type": "code",
   "execution_count": 56,
   "id": "9d28dbda",
   "metadata": {},
   "outputs": [],
   "source": [
    "car['kms_driven']=car['kms_driven'].str.split(' ').str.get(0).str.replace(',','')"
   ]
  },
  {
   "cell_type": "code",
   "execution_count": 57,
   "id": "e1afacdc",
   "metadata": {},
   "outputs": [],
   "source": [
    "car=car[car['kms_driven'].str.isnumeric()]"
   ]
  },
  {
   "cell_type": "code",
   "execution_count": 58,
   "id": "39ee753b",
   "metadata": {},
   "outputs": [],
   "source": [
    "car['kms_driven']=car['kms_driven'].astype(int)"
   ]
  },
  {
   "cell_type": "code",
   "execution_count": 59,
   "id": "b13cf2c1",
   "metadata": {},
   "outputs": [
    {
     "name": "stdout",
     "output_type": "stream",
     "text": [
      "<class 'pandas.core.frame.DataFrame'>\n",
      "Int64Index: 817 entries, 0 to 889\n",
      "Data columns (total 6 columns):\n",
      " #   Column      Non-Null Count  Dtype \n",
      "---  ------      --------------  ----- \n",
      " 0   name        817 non-null    object\n",
      " 1   company     817 non-null    object\n",
      " 2   year        817 non-null    int32 \n",
      " 3   Price       817 non-null    int32 \n",
      " 4   kms_driven  817 non-null    int32 \n",
      " 5   fuel_type   816 non-null    object\n",
      "dtypes: int32(3), object(3)\n",
      "memory usage: 35.1+ KB\n"
     ]
    }
   ],
   "source": [
    "car.info()"
   ]
  },
  {
   "cell_type": "code",
   "execution_count": 60,
   "id": "95dc5428",
   "metadata": {},
   "outputs": [],
   "source": [
    "car=car[~car['fuel_type'].isna()]          #nan row's is not present"
   ]
  },
  {
   "cell_type": "code",
   "execution_count": 61,
   "id": "0091111a",
   "metadata": {},
   "outputs": [],
   "source": [
    "car['name']=car['name'].str.split(' ').str.slice(0,3).str.join(\" \")"
   ]
  },
  {
   "cell_type": "code",
   "execution_count": 62,
   "id": "e8236a24",
   "metadata": {},
   "outputs": [
    {
     "data": {
      "text/html": [
       "<div>\n",
       "<style scoped>\n",
       "    .dataframe tbody tr th:only-of-type {\n",
       "        vertical-align: middle;\n",
       "    }\n",
       "\n",
       "    .dataframe tbody tr th {\n",
       "        vertical-align: top;\n",
       "    }\n",
       "\n",
       "    .dataframe thead th {\n",
       "        text-align: right;\n",
       "    }\n",
       "</style>\n",
       "<table border=\"1\" class=\"dataframe\">\n",
       "  <thead>\n",
       "    <tr style=\"text-align: right;\">\n",
       "      <th></th>\n",
       "      <th>name</th>\n",
       "      <th>company</th>\n",
       "      <th>year</th>\n",
       "      <th>Price</th>\n",
       "      <th>kms_driven</th>\n",
       "      <th>fuel_type</th>\n",
       "    </tr>\n",
       "  </thead>\n",
       "  <tbody>\n",
       "    <tr>\n",
       "      <th>0</th>\n",
       "      <td>Hyundai Santro Xing</td>\n",
       "      <td>Hyundai</td>\n",
       "      <td>2007</td>\n",
       "      <td>80000</td>\n",
       "      <td>45000</td>\n",
       "      <td>Petrol</td>\n",
       "    </tr>\n",
       "    <tr>\n",
       "      <th>1</th>\n",
       "      <td>Mahindra Jeep CL550</td>\n",
       "      <td>Mahindra</td>\n",
       "      <td>2006</td>\n",
       "      <td>425000</td>\n",
       "      <td>40</td>\n",
       "      <td>Diesel</td>\n",
       "    </tr>\n",
       "    <tr>\n",
       "      <th>3</th>\n",
       "      <td>Hyundai Grand i10</td>\n",
       "      <td>Hyundai</td>\n",
       "      <td>2014</td>\n",
       "      <td>325000</td>\n",
       "      <td>28000</td>\n",
       "      <td>Petrol</td>\n",
       "    </tr>\n",
       "    <tr>\n",
       "      <th>4</th>\n",
       "      <td>Ford EcoSport Titanium</td>\n",
       "      <td>Ford</td>\n",
       "      <td>2014</td>\n",
       "      <td>575000</td>\n",
       "      <td>36000</td>\n",
       "      <td>Diesel</td>\n",
       "    </tr>\n",
       "    <tr>\n",
       "      <th>6</th>\n",
       "      <td>Ford Figo</td>\n",
       "      <td>Ford</td>\n",
       "      <td>2012</td>\n",
       "      <td>175000</td>\n",
       "      <td>41000</td>\n",
       "      <td>Diesel</td>\n",
       "    </tr>\n",
       "    <tr>\n",
       "      <th>...</th>\n",
       "      <td>...</td>\n",
       "      <td>...</td>\n",
       "      <td>...</td>\n",
       "      <td>...</td>\n",
       "      <td>...</td>\n",
       "      <td>...</td>\n",
       "    </tr>\n",
       "    <tr>\n",
       "      <th>883</th>\n",
       "      <td>Maruti Suzuki Ritz</td>\n",
       "      <td>Maruti</td>\n",
       "      <td>2011</td>\n",
       "      <td>270000</td>\n",
       "      <td>50000</td>\n",
       "      <td>Petrol</td>\n",
       "    </tr>\n",
       "    <tr>\n",
       "      <th>885</th>\n",
       "      <td>Tata Indica V2</td>\n",
       "      <td>Tata</td>\n",
       "      <td>2009</td>\n",
       "      <td>110000</td>\n",
       "      <td>30000</td>\n",
       "      <td>Diesel</td>\n",
       "    </tr>\n",
       "    <tr>\n",
       "      <th>886</th>\n",
       "      <td>Toyota Corolla Altis</td>\n",
       "      <td>Toyota</td>\n",
       "      <td>2009</td>\n",
       "      <td>300000</td>\n",
       "      <td>132000</td>\n",
       "      <td>Petrol</td>\n",
       "    </tr>\n",
       "    <tr>\n",
       "      <th>888</th>\n",
       "      <td>Tata Zest XM</td>\n",
       "      <td>Tata</td>\n",
       "      <td>2018</td>\n",
       "      <td>260000</td>\n",
       "      <td>27000</td>\n",
       "      <td>Diesel</td>\n",
       "    </tr>\n",
       "    <tr>\n",
       "      <th>889</th>\n",
       "      <td>Mahindra Quanto C8</td>\n",
       "      <td>Mahindra</td>\n",
       "      <td>2013</td>\n",
       "      <td>390000</td>\n",
       "      <td>40000</td>\n",
       "      <td>Diesel</td>\n",
       "    </tr>\n",
       "  </tbody>\n",
       "</table>\n",
       "<p>816 rows × 6 columns</p>\n",
       "</div>"
      ],
      "text/plain": [
       "                       name   company  year   Price  kms_driven fuel_type\n",
       "0       Hyundai Santro Xing   Hyundai  2007   80000       45000    Petrol\n",
       "1       Mahindra Jeep CL550  Mahindra  2006  425000          40    Diesel\n",
       "3         Hyundai Grand i10   Hyundai  2014  325000       28000    Petrol\n",
       "4    Ford EcoSport Titanium      Ford  2014  575000       36000    Diesel\n",
       "6                 Ford Figo      Ford  2012  175000       41000    Diesel\n",
       "..                      ...       ...   ...     ...         ...       ...\n",
       "883      Maruti Suzuki Ritz    Maruti  2011  270000       50000    Petrol\n",
       "885          Tata Indica V2      Tata  2009  110000       30000    Diesel\n",
       "886    Toyota Corolla Altis    Toyota  2009  300000      132000    Petrol\n",
       "888            Tata Zest XM      Tata  2018  260000       27000    Diesel\n",
       "889      Mahindra Quanto C8  Mahindra  2013  390000       40000    Diesel\n",
       "\n",
       "[816 rows x 6 columns]"
      ]
     },
     "execution_count": 62,
     "metadata": {},
     "output_type": "execute_result"
    }
   ],
   "source": [
    "car"
   ]
  },
  {
   "cell_type": "code",
   "execution_count": 63,
   "id": "961620d0",
   "metadata": {},
   "outputs": [],
   "source": [
    "car=car.reset_index(drop=True)"
   ]
  },
  {
   "cell_type": "code",
   "execution_count": 64,
   "id": "45f8de72",
   "metadata": {},
   "outputs": [
    {
     "data": {
      "text/html": [
       "<div>\n",
       "<style scoped>\n",
       "    .dataframe tbody tr th:only-of-type {\n",
       "        vertical-align: middle;\n",
       "    }\n",
       "\n",
       "    .dataframe tbody tr th {\n",
       "        vertical-align: top;\n",
       "    }\n",
       "\n",
       "    .dataframe thead th {\n",
       "        text-align: right;\n",
       "    }\n",
       "</style>\n",
       "<table border=\"1\" class=\"dataframe\">\n",
       "  <thead>\n",
       "    <tr style=\"text-align: right;\">\n",
       "      <th></th>\n",
       "      <th>year</th>\n",
       "      <th>Price</th>\n",
       "      <th>kms_driven</th>\n",
       "    </tr>\n",
       "  </thead>\n",
       "  <tbody>\n",
       "    <tr>\n",
       "      <th>count</th>\n",
       "      <td>816.000000</td>\n",
       "      <td>8.160000e+02</td>\n",
       "      <td>816.000000</td>\n",
       "    </tr>\n",
       "    <tr>\n",
       "      <th>mean</th>\n",
       "      <td>2012.444853</td>\n",
       "      <td>4.117176e+05</td>\n",
       "      <td>46275.531863</td>\n",
       "    </tr>\n",
       "    <tr>\n",
       "      <th>std</th>\n",
       "      <td>4.002992</td>\n",
       "      <td>4.751844e+05</td>\n",
       "      <td>34297.428044</td>\n",
       "    </tr>\n",
       "    <tr>\n",
       "      <th>min</th>\n",
       "      <td>1995.000000</td>\n",
       "      <td>3.000000e+04</td>\n",
       "      <td>0.000000</td>\n",
       "    </tr>\n",
       "    <tr>\n",
       "      <th>25%</th>\n",
       "      <td>2010.000000</td>\n",
       "      <td>1.750000e+05</td>\n",
       "      <td>27000.000000</td>\n",
       "    </tr>\n",
       "    <tr>\n",
       "      <th>50%</th>\n",
       "      <td>2013.000000</td>\n",
       "      <td>2.999990e+05</td>\n",
       "      <td>41000.000000</td>\n",
       "    </tr>\n",
       "    <tr>\n",
       "      <th>75%</th>\n",
       "      <td>2015.000000</td>\n",
       "      <td>4.912500e+05</td>\n",
       "      <td>56818.500000</td>\n",
       "    </tr>\n",
       "    <tr>\n",
       "      <th>max</th>\n",
       "      <td>2019.000000</td>\n",
       "      <td>8.500003e+06</td>\n",
       "      <td>400000.000000</td>\n",
       "    </tr>\n",
       "  </tbody>\n",
       "</table>\n",
       "</div>"
      ],
      "text/plain": [
       "              year         Price     kms_driven\n",
       "count   816.000000  8.160000e+02     816.000000\n",
       "mean   2012.444853  4.117176e+05   46275.531863\n",
       "std       4.002992  4.751844e+05   34297.428044\n",
       "min    1995.000000  3.000000e+04       0.000000\n",
       "25%    2010.000000  1.750000e+05   27000.000000\n",
       "50%    2013.000000  2.999990e+05   41000.000000\n",
       "75%    2015.000000  4.912500e+05   56818.500000\n",
       "max    2019.000000  8.500003e+06  400000.000000"
      ]
     },
     "execution_count": 64,
     "metadata": {},
     "output_type": "execute_result"
    }
   ],
   "source": [
    "car.describe()"
   ]
  },
  {
   "cell_type": "code",
   "execution_count": 65,
   "id": "0e4a8ca1",
   "metadata": {},
   "outputs": [],
   "source": [
    "car=car[car['Price']<6e6].reset_index(drop=True)"
   ]
  },
  {
   "cell_type": "markdown",
   "id": "f82d084f",
   "metadata": {},
   "source": [
    "car.to_csv('Cleaned car.csv')"
   ]
  },
  {
   "cell_type": "markdown",
   "id": "fb1fa431",
   "metadata": {},
   "source": [
    "## Model\n"
   ]
  },
  {
   "cell_type": "code",
   "execution_count": 66,
   "id": "b314b356",
   "metadata": {},
   "outputs": [],
   "source": [
    "x=car.drop(columns=\"Price\")"
   ]
  },
  {
   "cell_type": "code",
   "execution_count": 67,
   "id": "2d2896d1",
   "metadata": {},
   "outputs": [],
   "source": [
    "y=car['Price']"
   ]
  },
  {
   "cell_type": "code",
   "execution_count": 68,
   "id": "a8fcf81b",
   "metadata": {},
   "outputs": [],
   "source": [
    "from sklearn.model_selection import train_test_split\n",
    "x_train,x_test,y_train,y_test=train_test_split(x,y,test_size=0.2)"
   ]
  },
  {
   "cell_type": "code",
   "execution_count": 69,
   "id": "b61c4c92",
   "metadata": {},
   "outputs": [],
   "source": [
    "from sklearn.linear_model import LinearRegression\n",
    "from sklearn.metrics import r2_score\n",
    "from sklearn.preprocessing import OneHotEncoder\n",
    "from sklearn.compose import make_column_transformer\n",
    "from sklearn.pipeline import make_pipeline"
   ]
  },
  {
   "cell_type": "code",
   "execution_count": 70,
   "id": "6e9f9fbc",
   "metadata": {},
   "outputs": [
    {
     "data": {
      "text/plain": [
       "OneHotEncoder()"
      ]
     },
     "execution_count": 70,
     "metadata": {},
     "output_type": "execute_result"
    }
   ],
   "source": [
    "ohe=OneHotEncoder()\n",
    "ohe.fit(x[['name','company','fuel_type']])"
   ]
  },
  {
   "cell_type": "code",
   "execution_count": 71,
   "id": "d3e7513d",
   "metadata": {},
   "outputs": [],
   "source": [
    "column_trans=make_column_transformer((OneHotEncoder(categories=ohe.categories_),['name','company','fuel_type']),remainder='passthrough')"
   ]
  },
  {
   "cell_type": "code",
   "execution_count": 72,
   "id": "f9a0cd71",
   "metadata": {},
   "outputs": [],
   "source": [
    "lr=LinearRegression()"
   ]
  },
  {
   "cell_type": "code",
   "execution_count": 73,
   "id": "b37f9fb2",
   "metadata": {},
   "outputs": [],
   "source": [
    "pipe=make_pipeline(column_trans,lr)"
   ]
  },
  {
   "cell_type": "code",
   "execution_count": 74,
   "id": "c8bd4325",
   "metadata": {},
   "outputs": [
    {
     "data": {
      "text/plain": [
       "Pipeline(steps=[('columntransformer',\n",
       "                 ColumnTransformer(remainder='passthrough',\n",
       "                                   transformers=[('onehotencoder',\n",
       "                                                  OneHotEncoder(categories=[array(['Audi A3 Cabriolet', 'Audi A4 1.8', 'Audi A4 2.0', 'Audi A6 2.0',\n",
       "       'Audi A8', 'Audi Q3 2.0', 'Audi Q5 2.0', 'Audi Q7', 'BMW 3 Series',\n",
       "       'BMW 5 Series', 'BMW 7 Series', 'BMW X1', 'BMW X1 sDrive20d',\n",
       "       'BMW X1 xDrive20d', 'Chevrolet Beat', 'Chevrolet Beat...\n",
       "                                                                            array(['Audi', 'BMW', 'Chevrolet', 'Datsun', 'Fiat', 'Force', 'Ford',\n",
       "       'Hindustan', 'Honda', 'Hyundai', 'Jaguar', 'Jeep', 'Land',\n",
       "       'Mahindra', 'Maruti', 'Mercedes', 'Mini', 'Mitsubishi', 'Nissan',\n",
       "       'Renault', 'Skoda', 'Tata', 'Toyota', 'Volkswagen', 'Volvo'],\n",
       "      dtype=object),\n",
       "                                                                            array(['Diesel', 'LPG', 'Petrol'], dtype=object)]),\n",
       "                                                  ['name', 'company',\n",
       "                                                   'fuel_type'])])),\n",
       "                ('linearregression', LinearRegression())])"
      ]
     },
     "execution_count": 74,
     "metadata": {},
     "output_type": "execute_result"
    }
   ],
   "source": [
    "pipe.fit(x_train,y_train)"
   ]
  },
  {
   "cell_type": "code",
   "execution_count": 75,
   "id": "3b012740",
   "metadata": {},
   "outputs": [],
   "source": [
    "y_pred=pipe.predict(x_test)"
   ]
  },
  {
   "cell_type": "code",
   "execution_count": 76,
   "id": "e56b03ef",
   "metadata": {},
   "outputs": [
    {
     "data": {
      "text/plain": [
       "array([ 157456.54613718,  675709.48777656,  260774.20226508,\n",
       "        240526.3698923 ,  238223.74861184,  241407.855103  ,\n",
       "        -34900.74321395,  296543.82060954, 1654624.77612601,\n",
       "        324759.2593977 ,  261555.31530914,   10049.81279871,\n",
       "        291953.05468933,  286328.36984724,  737682.40497214,\n",
       "        576353.0596433 ,  809641.26777469,  394762.27168047,\n",
       "       1755016.51064099,  735624.2137485 , 1106143.80112854,\n",
       "        350485.3105015 ,  890595.70475732,  122391.95097946,\n",
       "        424416.27118091, -112904.22291251,  380881.12890185,\n",
       "        241782.25590168,  522242.91629517,  195906.86745951,\n",
       "        504692.53444056,   96899.23996794, -169855.76114284,\n",
       "        268901.31614377,  207027.64634044,  245781.73921244,\n",
       "        258633.45246765,  286328.36984724,  201547.41068818,\n",
       "        320328.91027945,  471815.89123455, -166143.96909896,\n",
       "        898785.8300755 ,   19248.22637279,  367836.75219835,\n",
       "        900582.29293485,   31024.04003726,  244032.32814211,\n",
       "        567202.44544123,  431257.18608072,  255321.85959932,\n",
       "       -185558.89851862,  162367.67802541,  400119.456064  ,\n",
       "        386971.21328738,  243875.30481775,  340259.79124804,\n",
       "        340259.79124804, 1493990.86029704,  928474.43400998,\n",
       "         54298.46905196,  596287.26300417,  346171.9074776 ,\n",
       "        737764.96354593,  234859.55332559,  257684.73009355,\n",
       "         72689.96585371, 1633573.59243385,  287025.39424525,\n",
       "        900582.29293485,  644790.05646901,  298405.31248094,\n",
       "        287025.39424525,  776620.87859239,  433778.05125703,\n",
       "        214969.56676771, -116666.79681006,  287745.41331708,\n",
       "        828256.73678888,  373396.10009131,  393740.88078907,\n",
       "        523754.03379925,  162367.67802541,  328013.36618391,\n",
       "         91631.67200074,  634911.57766128,  299670.96939611,\n",
       "        189685.66276348,  783032.53410985,  182524.77064642,\n",
       "        143165.75952807,   97550.54268514,  542109.29668193,\n",
       "        464490.45077141,  422036.63018316,  112641.62770814,\n",
       "        219244.98668282,  782402.90181649,  199961.44618413,\n",
       "        405016.7959567 ,  288635.80881307,  928382.14040005,\n",
       "        153064.54628924,   -4913.9407198 ,  274249.33748285,\n",
       "        518829.95848727,  748035.53973438,    4561.94620144,\n",
       "        139300.25399289, 1654624.77612601,  119950.77099583,\n",
       "        440620.29005578,  502744.43271402,  143669.46536276,\n",
       "        245260.49586314,  798279.9224004 , -109756.0614457 ,\n",
       "        298405.31248094,  554840.8540853 ,  414414.18216445,\n",
       "        568334.57761942,  513648.55733392,  -49610.77982554,\n",
       "        476816.25011879,  245512.72321784,  306596.9246231 ,\n",
       "        204544.46040457, 1531974.29160242,  501737.02104464,\n",
       "         90126.6341764 ,  399207.61729234,  305715.43941239,\n",
       "        447407.34863374,  692465.97240451,  913167.67852928,\n",
       "       -150350.38833317, -159061.60485126,  660998.55490209,\n",
       "        453905.14600798,  367641.26092999,  406289.79636665,\n",
       "        274539.15556273,  766077.59877945, -110637.5466564 ,\n",
       "        299568.94108121,  351038.57522948,  271815.51196812,\n",
       "        537151.62783852,  585763.17701042,  101990.43465012,\n",
       "        744038.83509128, 2016065.14498858,  168128.331366  ,\n",
       "        390291.73444484,  534279.43467227, 1626876.65996921,\n",
       "        321454.55058174,  423117.01520503,  320085.39320038,\n",
       "        277741.46540678,  143714.52895957, -102630.93210709,\n",
       "        705153.26031759])"
      ]
     },
     "execution_count": 76,
     "metadata": {},
     "output_type": "execute_result"
    }
   ],
   "source": [
    "y_pred"
   ]
  },
  {
   "cell_type": "code",
   "execution_count": 77,
   "id": "d9533e1c",
   "metadata": {},
   "outputs": [
    {
     "data": {
      "text/plain": [
       "0.7369630790252854"
      ]
     },
     "execution_count": 77,
     "metadata": {},
     "output_type": "execute_result"
    }
   ],
   "source": [
    "r2_score(y_test,y_pred)"
   ]
  },
  {
   "cell_type": "code",
   "execution_count": 78,
   "id": "62a5d524",
   "metadata": {},
   "outputs": [],
   "source": [
    "scores=[]\n",
    "for i in range(1000):\n",
    "    x_train,x_test,y_train,y_test=train_test_split(x,y,test_size=0.2,random_state=i)\n",
    "    lr=LinearRegression()\n",
    "    pipe=make_pipeline(column_trans,lr)\n",
    "    pipe.fit(x_train,y_train)\n",
    "    y_pred=pipe.predict(x_test)\n",
    "    scores.append(r2_score(y_test,y_pred))"
   ]
  },
  {
   "cell_type": "code",
   "execution_count": 79,
   "id": "a6b305b8",
   "metadata": {},
   "outputs": [
    {
     "data": {
      "text/plain": [
       "433"
      ]
     },
     "execution_count": 79,
     "metadata": {},
     "output_type": "execute_result"
    }
   ],
   "source": [
    "np.argmax(scores)"
   ]
  },
  {
   "cell_type": "code",
   "execution_count": 80,
   "id": "38887565",
   "metadata": {},
   "outputs": [
    {
     "data": {
      "text/plain": [
       "0.8457059006772896"
      ]
     },
     "execution_count": 80,
     "metadata": {},
     "output_type": "execute_result"
    }
   ],
   "source": [
    "scores[np.argmax(scores)]"
   ]
  },
  {
   "cell_type": "code",
   "execution_count": 81,
   "id": "ad8453e3",
   "metadata": {},
   "outputs": [
    {
     "data": {
      "text/plain": [
       "0.8457059006772896"
      ]
     },
     "execution_count": 81,
     "metadata": {},
     "output_type": "execute_result"
    }
   ],
   "source": [
    "x_train,x_test,y_train,y_test=train_test_split(x,y,test_size=0.2,random_state=np.argmax(scores))\n",
    "lr=LinearRegression()\n",
    "pipe=make_pipeline(column_trans,lr)\n",
    "pipe.fit(x_train,y_train)\n",
    "y_pred=pipe.predict(x_test)\n",
    "r2_score(y_test,y_pred)"
   ]
  },
  {
   "cell_type": "code",
   "execution_count": 85,
   "id": "1f6e4b96",
   "metadata": {},
   "outputs": [],
   "source": [
    "import pickle"
   ]
  },
  {
   "cell_type": "code",
   "execution_count": 2,
   "id": "a2d7b288",
   "metadata": {},
   "outputs": [
    {
     "ename": "NameError",
     "evalue": "name 'pickle' is not defined",
     "output_type": "error",
     "traceback": [
      "\u001b[1;31m---------------------------------------------------------------------------\u001b[0m",
      "\u001b[1;31mNameError\u001b[0m                                 Traceback (most recent call last)",
      "\u001b[1;32m~\\AppData\\Local\\Temp\\ipykernel_8384\\988155127.py\u001b[0m in \u001b[0;36m<module>\u001b[1;34m\u001b[0m\n\u001b[1;32m----> 1\u001b[1;33m \u001b[0mpickle\u001b[0m\u001b[1;33m.\u001b[0m\u001b[0mdump\u001b[0m\u001b[1;33m(\u001b[0m\u001b[0mpipe\u001b[0m\u001b[1;33m,\u001b[0m\u001b[0mopen\u001b[0m\u001b[1;33m(\u001b[0m\u001b[1;34m\"LinearRegressionModel.pkl\"\u001b[0m\u001b[1;33m,\u001b[0m\u001b[1;34m'wb'\u001b[0m\u001b[1;33m)\u001b[0m\u001b[1;33m)\u001b[0m\u001b[1;33m\u001b[0m\u001b[1;33m\u001b[0m\u001b[0m\n\u001b[0m",
      "\u001b[1;31mNameError\u001b[0m: name 'pickle' is not defined"
     ]
    }
   ],
   "source": [
    "pickle.dump(pipe,open(\"LinearRegressionModel.pkl\",'wb'))"
   ]
  },
  {
   "cell_type": "code",
   "execution_count": 89,
   "id": "291af214",
   "metadata": {},
   "outputs": [
    {
     "data": {
      "text/plain": [
       "array([458894.10370545])"
      ]
     },
     "execution_count": 89,
     "metadata": {},
     "output_type": "execute_result"
    }
   ],
   "source": [
    "pipe.predict(pd.DataFrame([['Maruti Suzuki Swift','Maruti',2019,100,'Petrol']],columns=['name','company','year','kms_driven','fuel_type']))"
   ]
  },
  {
   "cell_type": "code",
   "execution_count": null,
   "id": "5b7794a8",
   "metadata": {},
   "outputs": [],
   "source": []
  },
  {
   "cell_type": "code",
   "execution_count": null,
   "id": "dcab325f",
   "metadata": {},
   "outputs": [],
   "source": []
  }
 ],
 "metadata": {
  "kernelspec": {
   "display_name": "Python 3 (ipykernel)",
   "language": "python",
   "name": "python3"
  },
  "language_info": {
   "codemirror_mode": {
    "name": "ipython",
    "version": 3
   },
   "file_extension": ".py",
   "mimetype": "text/x-python",
   "name": "python",
   "nbconvert_exporter": "python",
   "pygments_lexer": "ipython3",
   "version": "3.9.13"
  }
 },
 "nbformat": 4,
 "nbformat_minor": 5
}
